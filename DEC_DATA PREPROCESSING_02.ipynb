{
 "cells": [
  {
   "cell_type": "code",
   "execution_count": null,
   "metadata": {},
   "outputs": [],
   "source": [
    "# Import python libraries\n",
    "import pandas as pd\n",
    "import numpy as np\n",
    "# Import libraries for visualization\n",
    "import matplotlib\n",
    "import matplotlib.pyplot as plt\n",
    "import seaborn as sns\n",
    "import plotly.express as px"
   ]
  },
  {
   "cell_type": "code",
   "execution_count": null,
   "metadata": {},
   "outputs": [],
   "source": [
    "dp=pd.read_csv(\"Suicides in India 2001-2012.csv\")"
   ]
  },
  {
   "cell_type": "code",
   "execution_count": null,
   "metadata": {},
   "outputs": [],
   "source": [
    "import plotly.express as px\n",
    "\n",
    "\n",
    "fig = px.bar(dp,\n",
    "             x=\"State\",\n",
    "             y=\"Total\",\n",
    "             color=\"Gender\",\n",
    "             hover_data=[\"Gender\"],\n",
    "             title='State vs Types of Suicide')\n",
    "\n",
    "fig.show()"
   ]
  },
  {
   "cell_type": "code",
   "execution_count": null,
   "metadata": {},
   "outputs": [],
   "source": [
    "import plotly.express as px\n",
    "\n",
    "# Assuming 'dp' is your DataFrame containing the data\n",
    "fig = px.pie(dp, names=\"Gender\", title='Pie chart of Gender')\n",
    "fig.show()"
   ]
  },
  {
   "cell_type": "code",
   "execution_count": null,
   "metadata": {},
   "outputs": [],
   "source": [
    "import plotly.express as px\n",
    "\n",
    "# Assuming 's' is a DataFrame or a Series\n",
    "# Replace 's' with your actual DataFrame or Series containing time-series data\n",
    "fig = px.line(dp, x=dp.index, y=dp[\"Total\"], title=\"Total Suicides Over Time\")\n",
    "fig.show()\n"
   ]
  },
  {
   "cell_type": "code",
   "execution_count": null,
   "metadata": {},
   "outputs": [],
   "source": [
    "# Aggregate data by states, summing the total number of suicides\n",
    "state_aggregated = dp.groupby('State')['Total'].sum().reset_index()\n",
    "\n",
    "# Display the aggregated DataFrame\n",
    "print(state_aggregated)\n"
   ]
  },
  {
   "cell_type": "code",
   "execution_count": null,
   "metadata": {},
   "outputs": [],
   "source": [
    "import plotly.express as px\n",
    "\n",
    "# Assuming 'dp' is your DataFrame containing the data\n",
    "# Replace \"State\" and \"No_of_suicides\" with the actual column names in your DataFrame\n",
    "fig = px.scatter(\n",
    "    dp,\n",
    "    x=\"State\",  # Replace \"State\" with the actual column name for the x-axis\n",
    "    color=\"Total\",  # Replace \"Total\" with the actual column name for the color\n",
    "    title='Distribution of Total Suicides by State'\n",
    ")\n",
    "fig.update_layout(bargap=0.1)\n",
    "fig.show()"
   ]
  }
 ],
 "metadata": {
  "kernelspec": {
   "display_name": "Python 3",
   "language": "python",
   "name": "python3"
  },
  "language_info": {
   "codemirror_mode": {
    "name": "ipython",
    "version": 3
   },
   "file_extension": ".py",
   "mimetype": "text/x-python",
   "name": "python",
   "nbconvert_exporter": "python",
   "pygments_lexer": "ipython3",
   "version": "3.12.3"
  }
 },
 "nbformat": 4,
 "nbformat_minor": 2
}
